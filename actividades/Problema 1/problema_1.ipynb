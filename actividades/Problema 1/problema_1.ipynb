{
 "cells": [
  {
   "cell_type": "markdown",
   "metadata": {},
   "source": [
    "$\\textbf{Problema 1}$\n",
    "\n",
    "Crear una función y guardarla con el nombre getPromedioVertical, de tal forma que la función reciba como argumento de entrada una matriz de 2 dimensiones y regrese como salida  los promedios de cada columna."
   ]
  },
  {
   "cell_type": "code",
   "execution_count": 2,
   "metadata": {},
   "outputs": [
    {
     "name": "stdout",
     "output_type": "stream",
     "text": [
      "Promedio de columnas: [3.0, 9.33, 5.67]\n"
     ]
    }
   ],
   "source": [
    "import numpy as np\n",
    "\n",
    "matrix = np.array([[3, 4, 5], [4, 16, 8], [2, 8, 4]])\n",
    "\n",
    "\n",
    "def get_vertical_average(matrix):\n",
    "    if matrix.ndim == 2:\n",
    "        result = []\n",
    "        col_sums = np.sum(matrix, axis=0)\n",
    "        for col in col_sums:\n",
    "            average = col / matrix.shape[0]\n",
    "            formatted_average = float('{:.2f}'.format(average))\n",
    "            result.append(formatted_average)\n",
    "        return result\n",
    "    else:\n",
    "        return 'La matriz no es de 2 dimensiones.'\n",
    "\n",
    "\n",
    "print(f'Promedio de columnas: {get_vertical_average(matrix)}')"
   ]
  }
 ],
 "metadata": {
  "kernelspec": {
   "display_name": "Python 3 (ipykernel)",
   "language": "python",
   "name": "python3"
  },
  "language_info": {
   "codemirror_mode": {
    "name": "ipython",
    "version": 3
   },
   "file_extension": ".py",
   "mimetype": "text/x-python",
   "name": "python",
   "nbconvert_exporter": "python",
   "pygments_lexer": "ipython3",
   "version": "3.12.5"
  }
 },
 "nbformat": 4,
 "nbformat_minor": 2
}
