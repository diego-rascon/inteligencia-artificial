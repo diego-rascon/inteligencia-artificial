{
 "cells": [
  {
   "cell_type": "markdown",
   "metadata": {},
   "source": [
    "$\\textbf{Problema 6}$\n",
    "\n",
    "Crear una función y guardarla con el nombre getPromedioVertical, de tal forma que la función reciba como argumento de entrada una matriz de 2 dimensiones y regrese como salida  los promedios de cada columna."
   ]
  },
  {
   "cell_type": "code",
   "execution_count": 2,
   "metadata": {},
   "outputs": [
    {
     "name": "stdout",
     "output_type": "stream",
     "text": [
      "Promedio de columnas: [3.0, 9.33, 5.67]\n"
     ]
    }
   ],
   "source": [
    "import numpy as np\n",
    "\n",
    "matrix = np.array([[3, 4, 5], [4, 16, 8], [2, 8, 4]])\n",
    "\n",
    "\n",
    "def get_vertical_average(matrix):\n",
    "    if matrix.ndim == 2:\n",
    "        result = []\n",
    "        col_sums = np.sum(matrix, axis=0)\n",
    "        for col in col_sums:\n",
    "            average = col / matrix.shape[0]\n",
    "            formatted_average = float('{:.2f}'.format(average))\n",
    "            result.append(formatted_average)\n",
    "        return result\n",
    "    else:\n",
    "        return 'La matriz no es de 2 dimensiones.'\n",
    "\n",
    "\n",
    "print(f'Promedio de columnas: {get_vertical_average(matrix)}')"
   ]
  },
  {
   "cell_type": "markdown",
   "metadata": {},
   "source": [
    "$\\textbf{Problema 7}$\n",
    "\n",
    "Crear una función y guardarla con el nombre de getMCD, de tal forma que la función reciba como argumento de entrada un vector columna de 2 números, y regrese como salida el máximo común divisor de ambos.\n",
    "\n",
    "El algoritmo de Euclides se basa en el hecho de que si $\\textbf{a}$ es mayor que $\\textbf{b}$, entonces el máximo común divisor de $\\textbf{a}$ y $\\textbf{b}$, es el mismo que de $\\textbf{(a-b)}$ y $\\textbf{b}$.\n",
    "\n",
    "Si $\\textbf{a}$ y $\\textbf{b}$ son iguales, entonces ése es su valor de MCD."
   ]
  },
  {
   "cell_type": "code",
   "execution_count": 1,
   "metadata": {},
   "outputs": [
    {
     "name": "stdout",
     "output_type": "stream",
     "text": [
      "Máximo común divisor: 12\n"
     ]
    }
   ],
   "source": [
    "import numpy as np\n",
    "\n",
    "vector = np.array([[36], [60]])\n",
    "\n",
    "\n",
    "def get_mcd(vector):\n",
    "    if (vector.shape[0] == 2 and vector.shape[1] == 1):\n",
    "        a = vector[0]\n",
    "        b = vector[1]\n",
    "        while b != 0:\n",
    "            a, b = b, a % b\n",
    "        return a[0]\n",
    "    else:\n",
    "        return 'No se recibió un vector columna de 2 números,'\n",
    "\n",
    "\n",
    "print(f'Máximo común divisor: {get_mcd(vector)}')"
   ]
  }
 ],
 "metadata": {
  "kernelspec": {
   "display_name": "Python 3 (ipykernel)",
   "language": "python",
   "name": "python3"
  },
  "language_info": {
   "codemirror_mode": {
    "name": "ipython",
    "version": 3
   },
   "file_extension": ".py",
   "mimetype": "text/x-python",
   "name": "python",
   "nbconvert_exporter": "python",
   "pygments_lexer": "ipython3",
   "version": "3.12.5"
  }
 },
 "nbformat": 4,
 "nbformat_minor": 2
}
