{
 "cells": [
  {
   "cell_type": "code",
   "execution_count": 7,
   "metadata": {},
   "outputs": [
    {
     "name": "stdout",
     "output_type": "stream",
     "text": [
      "[1 2 3 4 5 6 7 8 9]\n"
     ]
    }
   ],
   "source": [
    "import numpy as np\n",
    "a = np.array([1, 2, 3, 4, 5, 6, 7, 8, 9])\n",
    "print(a)"
   ]
  },
  {
   "cell_type": "code",
   "execution_count": 6,
   "metadata": {},
   "outputs": [
    {
     "name": "stdout",
     "output_type": "stream",
     "text": [
      "249978.25208498427\n",
      "Versión clásica 434.45444107055664ms\n",
      "249978.2520849827\n",
      "Versión vectorizada 4.51350212097168ms\n"
     ]
    }
   ],
   "source": [
    "import time\n",
    "import numpy as np\n",
    "a = np.random.rand(1000000)\n",
    "b = np.random.rand(1000000)\n",
    "\n",
    "# print(a[0:20])\n",
    "\n",
    "# Version clasica con ciclo for\n",
    "tic = time.time()\n",
    "n = len(a)\n",
    "c = 0\n",
    "for i in range(n):\n",
    "    c += a[i]*b[i]\n",
    "toc = time.time()\n",
    "print(c)\n",
    "print(\"Versión clásica \" + str(1000*(toc-tic)) + \"ms\")\n",
    "\n",
    "# Version vectorizada\n",
    "tic = time.time()\n",
    "c = np.dot(a, b)\n",
    "toc = time.time()\n",
    "print(c)\n",
    "print(\"Versión vectorizada \" + str(1000*(toc-tic)) + \"ms\")"
   ]
  },
  {
   "cell_type": "markdown",
   "metadata": {},
   "source": [
    "Supón que tienes un vector V, y que vas a crear un vector U donde los elementos $U_j= e^{V_j}$ "
   ]
  },
  {
   "cell_type": "code",
   "execution_count": 8,
   "metadata": {},
   "outputs": [
    {
     "name": "stdout",
     "output_type": "stream",
     "text": [
      "[[1.62897624]\n",
      " [1.52731369]\n",
      " [1.30781706]\n",
      " ...\n",
      " [2.47444519]\n",
      " [1.39891488]\n",
      " [1.04436398]]\n",
      "Versión clásica 1894.4697380065918ms\n",
      "[1.62897624 1.52731369 1.30781706 ... 2.47444519 1.39891488 1.04436398]\n",
      "Versión vectorizada 3.610372543334961ms\n"
     ]
    }
   ],
   "source": [
    "import numpy as np\n",
    "import time\n",
    "\n",
    "V = np.random.rand(1000000)\n",
    "\n",
    "# Version clasica con ciclo for\n",
    "tic = time.time()\n",
    "n = len(V)\n",
    "U = np.zeros([n, 1])\n",
    "for i in range(n):\n",
    "    U[i] = np.exp(V[i])\n",
    "toc = time.time()\n",
    "print(U)\n",
    "print(\"Versión clásica \" + str(1000*(toc-tic)) + \"ms\")\n",
    "\n",
    "# Version vectorizada\n",
    "tic = time.time()\n",
    "U = np.exp(V)\n",
    "toc = time.time()\n",
    "print(U)\n",
    "print(\"Versión vectorizada \" + str(1000*(toc-tic)) + \"ms\")"
   ]
  }
 ],
 "metadata": {
  "kernelspec": {
   "display_name": "Python 3 (ipykernel)",
   "language": "python",
   "name": "python3"
  },
  "language_info": {
   "codemirror_mode": {
    "name": "ipython",
    "version": 3
   },
   "file_extension": ".py",
   "mimetype": "text/x-python",
   "name": "python",
   "nbconvert_exporter": "python",
   "pygments_lexer": "ipython3",
   "version": "3.12.5"
  }
 },
 "nbformat": 4,
 "nbformat_minor": 4
}
