{
 "cells": [
  {
   "cell_type": "markdown",
   "metadata": {},
   "source": [
    "# Regresión Lineal Multiple"
   ]
  },
  {
   "cell_type": "code",
   "execution_count": 26,
   "metadata": {},
   "outputs": [
    {
     "name": "stdout",
     "output_type": "stream",
     "text": [
      "Datos:\n",
      "[[  3   4 195]\n",
      " [  2   2 131]\n",
      " [  2   3 142]\n",
      " [  1   1  80]]\n",
      "\n",
      "Promedios:\n",
      "[  2.    2.5 137. ]\n",
      "\n",
      "Rangos:\n",
      "[  2   3 115]\n",
      "\n",
      "Datos escalados:\n",
      "[[ 0.5         0.5         0.50434783]\n",
      " [ 0.         -0.16666667 -0.05217391]\n",
      " [ 0.          0.16666667  0.04347826]\n",
      " [-0.5        -0.5        -0.49565217]]\n",
      "\n"
     ]
    }
   ],
   "source": [
    "import numpy as np\n",
    "\n",
    "\n",
    "def get_params(data):\n",
    "    row_1 = np.mean(data, axis=0)\n",
    "    row_2 = np.ptp(data, axis=0)\n",
    "\n",
    "    return row_1, row_2\n",
    "\n",
    "\n",
    "def scale(data, averages, ranges):\n",
    "    return np.divide(data - averages, ranges)\n",
    "\n",
    "\n",
    "data = np.array([[3, 4, 195, 460],\n",
    "                 [2, 2, 131, 232],\n",
    "                 [2, 3, 142, 135],\n",
    "                 [1, 1, 80, 178]])\n",
    "print(f'Datos:\\n{data[:, 0:3]}\\n')\n",
    "\n",
    "averages, ranges = get_params(data[:, 0:3])\n",
    "print(f'Promedios:\\n{averages}\\n')\n",
    "print(f'Rangos:\\n{ranges}\\n')\n",
    "\n",
    "scaled_data = scale(data[:, 0:3], averages, ranges)\n",
    "print(f'Datos escalados:\\n{scaled_data}\\n')"
   ]
  }
 ],
 "metadata": {
  "kernelspec": {
   "display_name": "env",
   "language": "python",
   "name": "python3"
  },
  "language_info": {
   "codemirror_mode": {
    "name": "ipython",
    "version": 3
   },
   "file_extension": ".py",
   "mimetype": "text/x-python",
   "name": "python",
   "nbconvert_exporter": "python",
   "pygments_lexer": "ipython3",
   "version": "3.12.5"
  }
 },
 "nbformat": 4,
 "nbformat_minor": 2
}
