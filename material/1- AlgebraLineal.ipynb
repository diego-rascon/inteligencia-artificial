{
 "cells": [
  {
   "cell_type": "markdown",
   "metadata": {},
   "source": [
    "\n",
    "# Librerias\n",
    "\n",
    "## numpy\n",
    "https://docs.scipy.org/doc/numpy-1.10.4/reference/routines.linalg.html"
   ]
  },
  {
   "cell_type": "markdown",
   "metadata": {},
   "source": [
    "# Matriz"
   ]
  },
  {
   "cell_type": "markdown",
   "metadata": {},
   "source": [
    "$\\textbf{Matriz}$: es un arreglo rectangular de números dispuestos en renglones y columnas, ejemplo:\n",
    "$$\n",
    "M = \\left( \\begin{array}{ccc}\n",
    "a & b & c \\\\\n",
    "d & e & f \\\\\n",
    "g & h & i \\\\\n",
    "j & k & l\\end{array} \\right)\n",
    "$$\n",
    "En este ejemplo es una matriz de nombre $M$ que tiene 4 renglones y 3 columnas; donde el elemento $m_{1,1} = a$; y el elemento $m_{4,3}=l$\n",
    "\n",
    "La dimensión de la matriz se denota de la siguiente manera $M \\in \\Re^{4*3} $\n",
    "\n",
    "\n",
    "Se usa nombrar con mayúsculas a las matrices; pero cuando se hace referencia a un elemento de la matriz, se escribe el nombre de la matrix en minúscula y 2 subíndices:\n",
    "primero el correspondiente al renglón y después el de columna. Por ejemplo, el elemento $f$ de la matrix $M$  viene siendo $m_{1,2}$.\n",
    "\n",
    "\n"
   ]
  },
  {
   "cell_type": "code",
   "execution_count": 1,
   "metadata": {},
   "outputs": [
    {
     "name": "stdout",
     "output_type": "stream",
     "text": [
      "A= \n",
      "[[ 1  2  3]\n",
      " [ 4  5  6]\n",
      " [ 7  8  9]\n",
      " [10 11 12]]\n",
      "Numero de dimensiones= 2\n",
      "Forma de la dimension= (4, 3)\n",
      "Tamaño= 12\n",
      "Tipo de los datos= int64\n",
      "suma de columnas: [22 26 30]\n",
      "suma de renglones: [ 6 15 24 33]\n"
     ]
    }
   ],
   "source": [
    "import numpy as np\n",
    "A=np.array([[1,2,3],[4,5,6],[7,8,9],[10,11,12]])\n",
    "print(f'A= \\n{A}')\n",
    "print(f'Numero de dimensiones= {A.ndim}') \n",
    "print(f'Forma de la dimension= {A.shape}')\n",
    "print(f'Tamaño= {A.size}')\n",
    "print(f'Tipo de los datos= {A.dtype}')\n",
    "print(f'suma de columnas: {np.sum(A, axis=0)}')\n",
    "print(f'suma de renglones: {np.sum(A, axis=1)}')\n"
   ]
  },
  {
   "cell_type": "code",
   "execution_count": 23,
   "metadata": {},
   "outputs": [
    {
     "name": "stdout",
     "output_type": "stream",
     "text": [
      "A= \n",
      "[[ 1  2  3]\n",
      " [ 4  5  6]\n",
      " [ 7  8  9]\n",
      " [10 11 12]]\n",
      "\n",
      "Numero de dimensiones=  2\n",
      "\n",
      "Forma de la dimension=  (4, 3)\n",
      "\n",
      "Tamaño=  12\n",
      "\n",
      "Tipo de los datos=  int64\n",
      "\n",
      "A[:,1:3]= \n",
      "[[ 2  3]\n",
      " [ 5  6]\n",
      " [ 8  9]\n",
      " [11 12]]\n",
      "\n",
      "A[1:3,:]= \n",
      "[[4 5 6]\n",
      " [7 8 9]]\n",
      "\n",
      "A= \n",
      "[[1 2]\n",
      " [3 4]]\n",
      "\n",
      "B= \n",
      "[[5 6]]\n",
      "\n",
      "Transpuesta de A= \n",
      "[[1 3]\n",
      " [2 4]]\n",
      "\n",
      "Transpuesta de B= \n",
      "[[5]\n",
      " [6]]\n",
      "\n",
      "B= \n",
      "[[5 6]]\n",
      "\n",
      "A concatenada con B en eje 0= \n",
      "[[1 2]\n",
      " [3 4]\n",
      " [5 6]]\n",
      "\n",
      "A concatenada con B en eje 1= \n",
      "[[1 2 5]\n",
      " [3 4 6]]\n",
      "\n",
      "A concatenada con B en ningún eje= \n",
      "[1 2 3 4 5 6]\n",
      "\n",
      "zeros[2,3] int= \n",
      "[[0 0 0]\n",
      " [0 0 0]]\n",
      "\n",
      "zeros[2,3] float= \n",
      "[[0. 0. 0.]\n",
      " [0. 0. 0.]]\n",
      "\n",
      "ones[2,3] int= \n",
      "[[1 1 1]\n",
      " [1 1 1]]\n",
      "\n",
      "arange(0,10,.5)= \n",
      "[0.  0.5 1.  1.5 2.  2.5 3.  3.5 4.  4.5 5.  5.5 6.  6.5 7.  7.5 8.  8.5\n",
      " 9.  9.5]\n",
      "\n",
      "linspace(0,10,21)= \n",
      "[ 0.   0.5  1.   1.5  2.   2.5  3.   3.5  4.   4.5  5.   5.5  6.   6.5\n",
      "  7.   7.5  8.   8.5  9.   9.5 10. ]\n",
      "\n",
      "X de meshgrid([0,1,2],[3,4,5,6])= \n",
      "[[0 1 2]\n",
      " [0 1 2]\n",
      " [0 1 2]\n",
      " [0 1 2]]\n",
      "\n",
      "Y de meshgrid([0,1,2],[3,4,5,6])= \n",
      "[[3 3 3]\n",
      " [4 4 4]\n",
      " [5 5 5]\n",
      " [6 6 6]]\n",
      "\n"
     ]
    }
   ],
   "source": [
    "import numpy as np\n",
    "A=np.array([[1,2,3],[4,5,6],[7,8,9],[10,11,12]])\n",
    "print('A= ',A,sep='\\n',end='\\n\\n')\n",
    "print('Numero de dimensiones= ',A.ndim,end='\\n\\n') \n",
    "print('Forma de la dimension= ',A.shape,end='\\n\\n')\n",
    "print('Tamaño= ',A.size,end='\\n\\n')\n",
    "print('Tipo de los datos= ',A.dtype,end='\\n\\n')\n",
    "print('A[:,1:3]= ',A[:,1:3],sep='\\n',end='\\n\\n')\n",
    "print('A[1:3,:]= ',A[1:3,:],sep='\\n',end='\\n\\n')\n",
    "A = np.array([[1, 2], [3, 4]])\n",
    "B = np.array([[5, 6]])\n",
    "print('A= ',A,sep='\\n',end='\\n\\n')\n",
    "print('B= ',B,sep='\\n',end='\\n\\n')\n",
    "\n",
    "print('Transpuesta de A= ',A.T,sep='\\n',end='\\n\\n')\n",
    "print('Transpuesta de B= ',B.T,sep='\\n',end='\\n\\n')\n",
    "\n",
    "print('B= ',B,sep='\\n',end='\\n\\n')\n",
    "C = np.concatenate((A, B), axis=0)\n",
    "print('A concatenada con B en eje 0= ', C,sep='\\n',end='\\n\\n')\n",
    "C = np.concatenate((A, B.T), axis=1)\n",
    "print('A concatenada con B en eje 1= ', C,sep='\\n',end='\\n\\n')\n",
    "C = np.concatenate((A, B), axis=None)\n",
    "print('A concatenada con B en ningún eje= ', C,sep='\\n',end='\\n\\n')\n",
    "\n",
    "B=np.zeros([2,3],int)\n",
    "print('zeros[2,3] int= ',B,sep='\\n',end='\\n\\n')\n",
    "B=np.zeros([2,3],float)\n",
    "print('zeros[2,3] float= ',B,sep='\\n',end='\\n\\n')\n",
    "B=np.ones([2,3],int)\n",
    "print('ones[2,3] int= ',B,sep='\\n',end='\\n\\n')\n",
    "#arange([start,]stop[,step,],dtype=None). Crea un array con valores distanciados step entre el valor inicial star y el valor final stop. Si no se establece step python establecerá uno por defecto.\n",
    "B=np.arange(0,10,.5)\n",
    "print('arange(0,10,.5)= ',B,sep='\\n',end='\\n\\n')\n",
    "#linspace(start,stop,num,endpoint=True,retstep=False). Crea un array con valor inicial start, valor final stop y num elementos\n",
    "B=np.linspace(0,10,21)\n",
    "print('linspace(0,10,21)= ',B,sep='\\n',end='\\n\\n')\n",
    "#meshgrid(x,y). Genera una matriz de coordenadas a partir de dos los arrays x, y.\n",
    "(X,Y)=np.meshgrid([0,1,2],[3,4,5,6])\n",
    "print('X de meshgrid([0,1,2],[3,4,5,6])= ',X,sep='\\n',end='\\n\\n')\n",
    "print('Y de meshgrid([0,1,2],[3,4,5,6])= ',Y,sep='\\n',end='\\n\\n')"
   ]
  },
  {
   "cell_type": "markdown",
   "metadata": {},
   "source": [
    "# Matriz Identidad"
   ]
  },
  {
   "cell_type": "code",
   "execution_count": 33,
   "metadata": {},
   "outputs": [
    {
     "name": "stdout",
     "output_type": "stream",
     "text": [
      "A= \n",
      "[[ 4  5]\n",
      " [10 11]]\n",
      "B= \n",
      "[[1 0]\n",
      " [0 1]]\n",
      "A.B= \n",
      "[[ 4  5]\n",
      " [10 11]]\n"
     ]
    }
   ],
   "source": [
    "import numpy as np\n",
    "A=np.array([[4,5],[10,11]])\n",
    "#B=np.array([[1,0],[0,1]])\n",
    "B = np.eye(2, dtype=int)\n",
    "print(f'A= \\n{A}')\n",
    "print(f'B= \\n{B}')\n",
    "print(f'A.B= \\n{np.dot(A,B)}')"
   ]
  },
  {
   "cell_type": "markdown",
   "metadata": {},
   "source": [
    "La matriz identidad es una matriz que cumple la propiedad de ser el elemento neutro del producto de matrices.\n",
    "Esto quiere decir que el producto de cualquier matriz por la matriz identidad no tiene ningún efecto.\n",
    "\n",
    "Como el producto de matrices sólo tiene sentido si sus dimensiones son compatibles,\n",
    "existen infinitas matrices identidad dependiendo de las dimensiones.\n",
    "\n",
    "$I_{n}$ es la matriz identidad de tamaño $n$, y se define como la matriz diagonal que tiene valor 1 en cada una de las entradas de la diagonal principal, y 0 en el resto. Así por ejemplo:\n",
    "\n",
    "$I_{1}=\\left( \\begin{array}{c}1\\end{array} \\right)$,\n",
    "\n",
    "$I_{2}=\\left( \\begin{array}{cc}1&0\\\\0&1\\end{array} \\right)$,\n",
    "\n",
    "$I_{3}=\\left( \\begin{array}{ccc}1&0&0\\\\0&1&0\\\\0&0&1\\end{array} \\right)$,\n",
    "\n",
    "$...$,\n",
    "\n",
    "$I_{n}=\\left( \\begin{array}{cccc}1&0&...&0\\\\0&1&...&0\\\\\\vdots&\\vdots&\\ddots&\\vdots\\\\0&0&...&1\\end{array} \\right)$\n"
   ]
  },
  {
   "cell_type": "code",
   "execution_count": 1,
   "metadata": {},
   "outputs": [
    {
     "name": "stdout",
     "output_type": "stream",
     "text": [
      "[[1. 0. 0. 0. 0.]\n",
      " [0. 1. 0. 0. 0.]\n",
      " [0. 0. 1. 0. 0.]\n",
      " [0. 0. 0. 1. 0.]\n",
      " [0. 0. 0. 0. 1.]]\n"
     ]
    }
   ],
   "source": [
    "import numpy as np\n",
    "A=np.eye(5)\n",
    "print(A)"
   ]
  },
  {
   "cell_type": "markdown",
   "metadata": {},
   "source": [
    "# Matriz Inversa"
   ]
  },
  {
   "cell_type": "markdown",
   "metadata": {},
   "source": [
    "La inversa de la matriz $A$, es otra matriz, del mismo orden que $A$, tal que al efectuar el producto, se obtiene como resultado la matriz identidad.\n",
    "\n",
    "Sólo las matrices cuadradas pueden tener inversa, sin embargo, el hecho de que una matriz sea cuadrada no garantiza la existencia de una matriz inversa.\n",
    "\n",
    "\n",
    "si A es una matriz m x m, y y si ésta tiene inversa:\n",
    "\n",
    "\n",
    "$A \\cdot  A^{-1} = A^{-1} \\cdot A= I$\n",
    "\n",
    "\n",
    "Ejemplo:\n",
    "\n",
    "$\\left( \\begin{array}{cc}3&4\\\\2&16\\end{array} \\right) \\left( \\begin{array}{cc}0.4&-0.1\\\\-0.05&0.075\\end{array} \\right) = \\left( \\begin{array}{cc}1&0\\\\0&1\\end{array} \\right) = I_2$\n"
   ]
  },
  {
   "cell_type": "code",
   "execution_count": null,
   "metadata": {},
   "outputs": [
    {
     "name": "stdout",
     "output_type": "stream",
     "text": [
      "A= \n",
      "[[ 3  4]\n",
      " [ 2 16]]\n",
      "\n",
      "inv(A)= \n",
      "[[ 0.4   -0.1  ]\n",
      " [-0.05   0.075]]\n",
      "\n",
      "(A)(inv(A))= \n",
      "[[1. 0.]\n",
      " [0. 1.]]\n",
      "\n",
      "(inv(A))(A)= \n",
      "[[1. 0.]\n",
      " [0. 1.]]\n",
      "\n"
     ]
    }
   ],
   "source": [
    "import numpy as np\n",
    "A=np.array([[3,4],[2,16]])\n",
    "print('A= ',A,sep='\\n',end='\\n\\n')\n",
    "B=np.linalg.inv(A)\n",
    "print('inv(A)= ',B,sep='\\n',end='\\n\\n')\n",
    "print('(A)(inv(A))= ',A.dot(B),sep='\\n',end='\\n\\n')\n",
    "print('(inv(A))(A)= ',B.dot(A),sep='\\n',end='\\n\\n')"
   ]
  },
  {
   "cell_type": "code",
   "execution_count": 6,
   "metadata": {},
   "outputs": [
    {
     "name": "stdout",
     "output_type": "stream",
     "text": [
      "C = \n",
      "[[ 7  6]\n",
      " [17 16]\n",
      " [27 26]]\n"
     ]
    }
   ],
   "source": [
    "import numpy as np\n",
    "A = np.array([[1, 2], [3, 4], [5, 6]])\n",
    "B = np.array([[3], [2], [5], [8], ])\n",
    "C = np.dot(A, B)\n",
    "print(f'C = \\n{C}')"
   ]
  },
  {
   "cell_type": "code",
   "execution_count": 2,
   "metadata": {},
   "outputs": [
    {
     "name": "stdout",
     "output_type": "stream",
     "text": [
      "A= \n",
      "[[ 3  4]\n",
      " [ 2 16]]\n",
      "B= \n",
      "[[ 0.4   -0.1  ]\n",
      " [-0.05   0.075]]\n",
      "A.B= \n",
      "[[ 1.00000000e+00 -5.55111512e-17]\n",
      " [ 0.00000000e+00  1.00000000e+00]]\n"
     ]
    }
   ],
   "source": [
    "import numpy as np\n",
    "A=np.array([[3,4],[2,16]])\n",
    "B=np.array([[ 0.4,   -0.1  ],[-0.05,   0.075]])\n",
    "print(f'A= \\n{A}')\n",
    "print(f'B= \\n{B}')\n",
    "print(f'A.B= \\n{np.dot(A,B)}')"
   ]
  },
  {
   "cell_type": "markdown",
   "metadata": {},
   "source": [
    "# Determinante de una Matriz"
   ]
  },
  {
   "cell_type": "markdown",
   "metadata": {},
   "source": [
    "El determinante de una matriz $A$ es un escalar único asociado con los elementos de una matriz, por medio de operaciones definidas.\n",
    "\n",
    "El determinante se simboliza por: det($A$)    ó bien, envolviendo la matriz con barras verticales $|A|$\n",
    "\n",
    "El valor de un determinante sólo se obtiene en matrices cuadradas.\n",
    "\n",
    "Existen varios métodos para encontrar determinantes, para matrices de $2^{o}$ y $3^{o}$ orden se usa el método de diagonales que consiste en:\n",
    "\n",
    "$|A|=\\left( \\begin{array}{cc} a_{00}&a_{01}\\\\a_{10}&a_{11}\\end{array} \\right)=a_{00}a_{11}-a_{10}a_{01}=det(A)$\n",
    "\n",
    "$|A|=\\left( \\begin{array}{ccc} a_{00}&a_{01}&a_{02}\\\\a_{10}&a_{11}&a_{12}\\\\a_{20}&a_{21}&a_{22}\\end{array} \\right)=a_{00}a_{11}a_{22}+a_{01}a_{12}a_{20}+a_{10}a_{21}a_{02}-a_{02}a_{11}a_{20}-a_{00}a_{12}a_{21}-a_{01}a_{10}a_{22}=det(A)$\n",
    "\n",
    "Para matrices mayores se puede aplicar el método de cofactores, siempre y cuando sea una matriz cuadrada.\n",
    "\n",
    "el det(A$\\cdot$B) = det(A) $\\cdot$ det(B), es decir: \n",
    "\n",
    "$|A\\cdot B|=|A|\\cdot|B|$"
   ]
  },
  {
   "cell_type": "code",
   "execution_count": 45,
   "metadata": {},
   "outputs": [
    {
     "name": "stdout",
     "output_type": "stream",
     "text": [
      "A= \n",
      "[[ 3  4]\n",
      " [ 2 16]]\n",
      "\n",
      "det(A)= \n",
      "40.000000000000014\n",
      "\n",
      "B= \n",
      "[[5 7]\n",
      " [3 8]]\n",
      "\n",
      "det(B)= \n",
      "18.999999999999996\n",
      "\n",
      "AB= \n",
      "[[ 27  53]\n",
      " [ 58 142]]\n",
      "\n",
      "det(AB)= \n",
      "759.9999999999994\n",
      "\n",
      "(40.000000000000014)  (18.999999999999996) = 760.0000000000001\n"
     ]
    }
   ],
   "source": [
    "import numpy as np\n",
    "A=np.array([[3,4],[2,16]])\n",
    "print('A= ',A,sep='\\n',end='\\n\\n')\n",
    "detA= np.linalg.det(A)\n",
    "print('det(A)= ',detA,sep='\\n',end='\\n\\n')\n",
    "B=np.array([[5,7],[3,8]])\n",
    "print('B= ',B,sep='\\n',end='\\n\\n')\n",
    "detB= np.linalg.det(B)\n",
    "print('det(B)= ',detB,sep='\\n',end='\\n\\n')\n",
    "AB=A.dot(B)\n",
    "print('AB= ',AB,sep='\\n',end='\\n\\n')\n",
    "detAB= np.linalg.det(AB)\n",
    "print('det(AB)= ',detAB,sep='\\n',end='\\n\\n')\n",
    "print(\"({0})  ({1}) = {2}\".format(detA,detB,detA*detB))"
   ]
  },
  {
   "cell_type": "code",
   "execution_count": 9,
   "metadata": {},
   "outputs": [
    {
     "ename": "SyntaxError",
     "evalue": "positional argument follows keyword argument (4029804572.py, line 4)",
     "output_type": "error",
     "traceback": [
      "\u001b[1;36m  Cell \u001b[1;32mIn[9], line 4\u001b[1;36m\u001b[0m\n\u001b[1;33m    print('det(a) = ', det_a, sep = '\\n', ends'\\n')\u001b[0m\n\u001b[1;37m                                                  ^\u001b[0m\n\u001b[1;31mSyntaxError\u001b[0m\u001b[1;31m:\u001b[0m positional argument follows keyword argument\n"
     ]
    }
   ],
   "source": [
    "import numpy as np\n",
    "a = np.array([[7, 8, 14], [5, 9, 10], [2, 0, 4]])\n",
    "det_a = np.linalg.det(a)\n",
    "print('det(a) = ', det_a, sep = '\\n', ends'\\n')"
   ]
  },
  {
   "cell_type": "markdown",
   "metadata": {},
   "source": [
    "# Matriz Regular"
   ]
  },
  {
   "cell_type": "markdown",
   "metadata": {},
   "source": [
    "Es aquella que si tiene matriz inversa, ya que su determinante es diferente de cero."
   ]
  },
  {
   "cell_type": "code",
   "execution_count": 39,
   "metadata": {},
   "outputs": [
    {
     "name": "stdout",
     "output_type": "stream",
     "text": [
      "A= \n",
      "[[ 3  4  6]\n",
      " [ 4 16  8]\n",
      " [ 6  2 12]]\n",
      "\n",
      "det(A)= \n",
      "0.0\n",
      "\n"
     ]
    }
   ],
   "source": [
    "import numpy as np\n",
    "A=np.array([[3,4,6],[4,16,8],[6,2,12]])\n",
    "print('A= ',A,sep='\\n',end='\\n\\n')\n",
    "detA=np.linalg.det(A)\n",
    "print('det(A)= ',detA,sep='\\n',end='\\n\\n')"
   ]
  },
  {
   "cell_type": "markdown",
   "metadata": {},
   "source": [
    "# Matriz Singular"
   ]
  },
  {
   "cell_type": "markdown",
   "metadata": {},
   "source": [
    "Es aquella matriz que no tiene inversa porque su determinante es igual a cero, generalmente es cuando una columna/renglón es múltiplo de otra columna/renglón."
   ]
  },
  {
   "cell_type": "code",
   "execution_count": 1,
   "metadata": {},
   "outputs": [
    {
     "name": "stdout",
     "output_type": "stream",
     "text": [
      "A= \n",
      "[[ 3  4  5]\n",
      " [ 4 16  8]\n",
      " [ 2  8  4]]\n",
      "\n",
      "det(A)= \n",
      "0.0\n",
      "\n",
      "B= \n",
      "[[ 3  4  6]\n",
      " [ 4 16  8]\n",
      " [ 6  8 12]]\n",
      "\n",
      "det(B)= \n",
      "0.0\n",
      "\n"
     ]
    }
   ],
   "source": [
    "import numpy as np\n",
    "A=np.array([[3,4,5],[4,16,8],[2,8,4]])\n",
    "print('A= ',A,sep='\\n',end='\\n\\n')\n",
    "detA=np.linalg.det(A)\n",
    "print('det(A)= ',detA,sep='\\n',end='\\n\\n')\n",
    "B=np.array([[3,4,6],[4,16,8],[6,8,12]])\n",
    "print('B= ',B,sep='\\n',end='\\n\\n')\n",
    "detB=np.linalg.det(B)\n",
    "print('det(B)= ',detB,sep='\\n',end='\\n\\n')"
   ]
  },
  {
   "cell_type": "markdown",
   "metadata": {},
   "source": [
    "# Matriz Cofactor"
   ]
  },
  {
   "cell_type": "markdown",
   "metadata": {},
   "source": [
    "La matriz cofactor se representa por $A^{C}$ y esta formada por los cofactores de cada elemento de la matriz original.\n",
    "\n",
    "Sólo las matrices cuadradas tienen matriz cofactor, la fórmula para obtener cofactores es: $\\alpha_{ij}=(-1)^{i+j}M_{i,j}$\n",
    "\n",
    "$M_{i,j}$ .- Es un determinante de menor orden que la original y se obtiene al eliminar la fila y la columna del elemento con que se esta trabajando.\n",
    "\n",
    "Ejemplo:\n",
    "$A=\\left( \\begin{array}{ccc}\n",
    "a_{1,1}&a_{1,2}&a_{1,3}\\\\\n",
    "a_{2,1}&a_{2,2}&a_{2,3}\\\\\n",
    "a_{3,1}&a_{3,2}&a_{3,3}\n",
    "\\end{array} \\right)$,\n",
    "\n",
    "$A^C=\\left( \\begin{array}{ccc}\n",
    "\\alpha_{1,1}&\\alpha_{1,2}&\\alpha_{1,3}\\\\\n",
    "\\alpha_{2,1}&\\alpha_{2,2}&\\alpha_{2,3}\\\\\n",
    "\\alpha_{3,1}&\\alpha_{3,2}&\\alpha_{3,3}\n",
    "\\end{array} \\right)$\n",
    "\n",
    "donde por ejemplo: $\\alpha_{3,3}=(-1)^{3+3}\\left| \\begin{array}{cc} a_{11}&a_{12}\\\\a_{21}&a_{22}\\end{array} \\right|=(1)*(a_{11}a_{22}-a_{21}a_{12})$\n",
    "\n",
    "$A^C=\n",
    "   \\begin{pmatrix} \n",
    "      +\n",
    "      \\left |\n",
    "         \\begin{matrix} a_{22} & a_{23} \\\\\n",
    "             a_{32} & a_{33} \n",
    "         \\end{matrix}\n",
    "      \\right | &\n",
    "      -\n",
    "      \\left |\n",
    "         \\begin{matrix}\n",
    "            a_{21} & a_{23} \\\\\n",
    "            a_{31} & a_{33}\n",
    "         \\end{matrix}\n",
    "      \\right | &\n",
    "      +\n",
    "      \\left |\n",
    "         \\begin{matrix}\n",
    "            a_{21} & a_{22} \\\\\n",
    "            a_{31} & a_{32}\n",
    "         \\end{matrix}\n",
    "      \\right | \\\\\n",
    "       & & \\\\\n",
    "      -\n",
    "      \\left |\n",
    "         \\begin{matrix}\n",
    "            a_{12} & a_{13} \\\\\n",
    "            a_{32} & a_{33}\n",
    "         \\end{matrix}\n",
    "      \\right | &\n",
    "      +\n",
    "      \\left |\n",
    "         \\begin{matrix}\n",
    "            a_{11} & a_{13} \\\\\n",
    "            a_{31} & a_{33}\n",
    "         \\end{matrix}\n",
    "      \\right | &\n",
    "      -\n",
    "      \\left |\n",
    "         \\begin{matrix}\n",
    "            a_{11} & a_{12} \\\\\n",
    "            a_{31} & a_{32}\n",
    "         \\end{matrix}\n",
    "      \\right| \\\\\n",
    "      & & \\\\\n",
    "      +\n",
    "      \\left |\n",
    "         \\begin{matrix}\n",
    "            a_{12} & a_{13} \\\\\n",
    "            a_{22} & a_{23}\n",
    "         \\end{matrix}\n",
    "      \\right | &\n",
    "      -\n",
    "      \\left |\n",
    "         \\begin{matrix}\n",
    "            a_{11} & a_{13} \\\\\n",
    "            a_{21} & a_{23}\n",
    "         \\end{matrix}\n",
    "      \\right | &\n",
    "      +\n",
    "      \\left |\n",
    "         \\begin{matrix}\n",
    "            a_{11} & a_{12} \\\\\n",
    "            a_{21} & a_{22}\n",
    "         \\end{matrix}\n",
    "      \\right|\n",
    "   \\end{pmatrix} =\n",
    "   \\begin{pmatrix} \n",
    "      a_{22}a_{33} - a_{23}a_{32} & a_{23}a_{31} - a_{21}a_{33} & a_{21}a_{32} - a_{22}a_{31}\\\\\n",
    "      a_{32}a_{13} - a_{33}a_{12} & a_{33}a_{11} - a_{31}a_{13} & a_{31}a_{12} - a_{32}a_{11}\\\\\n",
    "      a_{12}a_{23} - a_{13}a_{22} & a_{13}a_{21} - a_{11}a_{23} & a_{11}a_{22} - a_{12}a_{21}\n",
    "   \\end{pmatrix}\n",
    "$"
   ]
  },
  {
   "cell_type": "code",
   "execution_count": 2,
   "metadata": {},
   "outputs": [
    {
     "name": "stdout",
     "output_type": "stream",
     "text": [
      "A= \n",
      "[[ 3  4  5]\n",
      " [ 4 16  8]\n",
      " [ 2  8  4]]\n",
      "\n",
      "cofactor(A)= \n",
      "[[  0.  -0.   0.]\n",
      " [ 24.   2. -16.]\n",
      " [-48.  -4.  32.]]\n",
      "\n"
     ]
    }
   ],
   "source": [
    "import numpy as np\n",
    "A=np.array([[3,4,5],[4,16,8],[2,8,4]])\n",
    "print('A= ',A,sep='\\n',end='\\n\\n')\n",
    "\n",
    "def matrix_cofactor(matrix): \n",
    "    C = np.zeros(matrix.shape) \n",
    "    (nrows, ncols) = C.shape \n",
    "    minor = np.zeros([nrows-1, ncols-1])\n",
    "    for row in range(nrows): \n",
    "        for col in range(ncols): \n",
    "            minor[:row,:col] = matrix[:row,:col] \n",
    "            minor[row:,:col] = matrix[row+1:,:col] \n",
    "            minor[:row,col:] = matrix[:row,col+1:] \n",
    "            minor[row:,col:] = matrix[row+1:,col+1:] \n",
    "            C[row, col] = (-1)**(row+col) * np.linalg.det(minor) \n",
    "    return C \n",
    "\n",
    "cofA=matrix_cofactor(A)\n",
    "print('cofactor(A)= ',cofA,sep='\\n',end='\\n\\n')\n",
    "\n"
   ]
  },
  {
   "cell_type": "markdown",
   "metadata": {},
   "source": [
    "# Matriz Transpuesta"
   ]
  },
  {
   "cell_type": "markdown",
   "metadata": {},
   "source": [
    "Sea $A$ una matriz. La matriz transpuesta, denotada con $A^{t}$ está dada por aquella matriz donde el elemento $a_{ji}$ de la matriz original A se convertirá en el elemento $a_{ij}$ de la matriz transpuesta $A^t$."
   ]
  },
  {
   "cell_type": "code",
   "execution_count": 86,
   "metadata": {},
   "outputs": [
    {
     "name": "stdout",
     "output_type": "stream",
     "text": [
      "A= \n",
      "[[ 3  4  5  7]\n",
      " [ 4 16  8  2]\n",
      " [ 2  8  4  0]]\n",
      "\n",
      "transpuesta(A)= \n",
      "[[ 3  4  2]\n",
      " [ 4 16  8]\n",
      " [ 5  8  4]\n",
      " [ 7  2  0]]\n",
      "\n"
     ]
    }
   ],
   "source": [
    "import numpy as np\n",
    "A=np.array([[3,4,5,7],[4,16,8,2],[2,8,4,0]])\n",
    "print('A= ',A,sep='\\n',end='\\n\\n')\n",
    "transpuestaA=A.T\n",
    "print('transpuesta(A)= ',transpuestaA,sep='\\n',end='\\n\\n')\n"
   ]
  },
  {
   "cell_type": "markdown",
   "metadata": {},
   "source": [
    "# Matriz Adjunta"
   ]
  },
  {
   "cell_type": "markdown",
   "metadata": {},
   "source": [
    "La matriz adjunta es la transpuesta de la matriz cofactor y se representa por ADJ A.  \n",
    "\n",
    "Su fórmula es: $ADJ\\;A=(A^{C})^{T}$"
   ]
  },
  {
   "cell_type": "markdown",
   "metadata": {},
   "source": [
    "# Vectores"
   ]
  },
  {
   "cell_type": "markdown",
   "metadata": {},
   "source": [
    "Los vectores son un caso especial de matrices donde una de sus dimensiones es 1; de esta forma tenemos vector renglón, y vector columna.\n",
    "\n",
    "\n",
    "Ejemplo de vector renglón: $X = \\left( \\begin{array}{ccccc}m & n & o & p & q \\end{array} \\right)$\n",
    "\n",
    "Ejemplo de vector columna: $Y = \\left( \\begin{array}{c}r \\\\s\\\\t\\\\u\\end{array} \\right)$\n",
    "\n",
    "La dimensión de un vector se denota de la siguiente manera $X \\in \\Re^{5}; \\;\\; Y\\in \\Re^{4}$\n",
    "\n",
    "Cuando se hace referencia a un elemento del vector, se escribe el nombre del vector y 1 subíndice.Por ejemplo, el elemento $p$ del vector $X$ viene siendo $X[3]=x_{3}$; o el elemento $s$ del vector $Y$ viene siendo $Y[1]=y_{1}$\n"
   ]
  },
  {
   "cell_type": "markdown",
   "metadata": {},
   "source": [
    "# Suma y Resta de matrices"
   ]
  },
  {
   "cell_type": "markdown",
   "metadata": {},
   "source": [
    "La suma y resta de matrices solo se puede realizar cuando las 2 matrices tienen la misma dimensión,\n",
    "y la suma o resta se realiza con los elementos correspondientes, es decir, los elementos que tienen los mismos subíndices, ejemplo:\n",
    "\n",
    "$A=\\left( \\begin{array}{cc}a_{1,1}&a_{1,2}\\\\a_{2,1}&a_{2,2}\\end{array} \\right)$,\n",
    "\n",
    "$B=\\left( \\begin{array}{cc}b_{1,1}&b_{1,2}\\\\b_{2,1}&b_{2,2}\\end{array} \\right)$\n",
    "\n",
    "$A+B=\\left( \\begin{array}{cc}a_{1,1}+b_{1,1}&a_{1,2}+b_{1,2}\\\\a_{2,1}+b_{2,1}&a_{2,2}+b_{2,2}\\end{array} \\right)$\n",
    "\n"
   ]
  },
  {
   "cell_type": "code",
   "execution_count": 124,
   "metadata": {},
   "outputs": [
    {
     "name": "stdout",
     "output_type": "stream",
     "text": [
      "A= \n",
      "[[1 2]\n",
      " [3 4]]\n",
      "\n",
      "B= \n",
      "[[5 6]\n",
      " [7 8]]\n",
      "\n",
      "A + B = \n",
      "[[ 6  8]\n",
      " [10 12]]\n",
      "\n"
     ]
    }
   ],
   "source": [
    "import numpy as np\n",
    "A = np.array([[1, 2], [3, 4]])\n",
    "B = np.array([[5, 6], [7, 8]])\n",
    "print('A= ',A,sep='\\n',end='\\n\\n')\n",
    "print('B= ',B,sep='\\n',end='\\n\\n')\n",
    "C = A+B\n",
    "print('A + B = ', C,sep='\\n',end='\\n\\n')"
   ]
  },
  {
   "cell_type": "markdown",
   "metadata": {},
   "source": [
    "# Multiplicación de matrices"
   ]
  },
  {
   "cell_type": "markdown",
   "metadata": {},
   "source": [
    "La multiplicación de matrices solo se puede realizar cuando la segunda dimensión de la primer matriz es igual a la primera dimensión de la segunda matriz, y la matriz resultante tiene como dimensiones la primera dimensión de la primer matriz y la segunda dimensión de la segunda matriz; en otras palabras, suponiendo $A \\in \\Re^{M*N}$ y $B \\in \\Re^{N*P}$; $(A*B) \\in \\Re^{M*P}$\n",
    "\n",
    "De esta forma, el elemento $(A*B)_{ij}$ se forma al multiplicar el renglón $i$ de la matriz $A$, por la columna $j$ de la matriz $B$.\n",
    "\n",
    "Ejemplo:\n",
    "\n",
    "$A=\\left( \\begin{array}{cc}a_{1,1}&a_{1,2}\\\\a_{2,1}&a_{2,2}\\end{array} \\right)$,\n",
    "\n",
    "$B=\\left( \\begin{array}{cc}b_{1,1}&b_{1,2}\\\\b_{2,1}&b_{2,2}\\end{array} \\right)$\n",
    "\n",
    "$(A*B)=\\left( \\begin{array}{cc}a_{1,1}\\cdot b_{1,1}+a_{1,2}\\cdot b_{2,1} & a_{1,1}\\cdot b_{1,2}+a_{1,2}\\cdot b_{2,2}\\\\\n",
    "a_{2,1}\\cdot b_{1,1}+a_{2,2}\\cdot b_{2,1} & a_{2,1}\\cdot b_{1,2}+a_{2,2}\\cdot b_{2,2}\\end{array} \\right)$"
   ]
  },
  {
   "cell_type": "code",
   "execution_count": 40,
   "metadata": {},
   "outputs": [
    {
     "name": "stdout",
     "output_type": "stream",
     "text": [
      "A= \n",
      "[[1 2]\n",
      " [3 4]]\n",
      "\n",
      "B= \n",
      "[[5 6]\n",
      " [7 8]]\n",
      "\n",
      "A * B = \n",
      "[[ 5 12]\n",
      " [21 32]]\n",
      "\n",
      "A . B = \n",
      "[[19 22]\n",
      " [43 50]]\n",
      "\n",
      "A . B = \n",
      "[[19 22]\n",
      " [43 50]]\n",
      "\n"
     ]
    }
   ],
   "source": [
    "import numpy as np\n",
    "A = np.array([[1, 2], [3, 4]])\n",
    "B = np.array([[5, 6], [7, 8]])\n",
    "print('A= ',A,sep='\\n',end='\\n\\n')\n",
    "print('B= ',B,sep='\\n',end='\\n\\n')\n",
    "C = A.dot(B)\n",
    "print('A * B = ', A*B,sep='\\n',end='\\n\\n')\n",
    "print('A . B = ', C,sep='\\n',end='\\n\\n')\n",
    "print('A . B = ', A@B,sep='\\n',end='\\n\\n')"
   ]
  },
  {
   "cell_type": "markdown",
   "metadata": {},
   "source": [
    "# División de matrices"
   ]
  },
  {
   "cell_type": "markdown",
   "metadata": {},
   "source": [
    "La división de matrices no existe, se usa la multiplicación por la matriz inversa que es lo más parecido a dividir en el mundo de las matrices."
   ]
  },
  {
   "cell_type": "markdown",
   "metadata": {},
   "source": [
    "# Multiplicación de una matriz por un escalar"
   ]
  },
  {
   "cell_type": "markdown",
   "metadata": {},
   "source": [
    "Cada elemento de la matriz se multiplica de manera individual por el escalar, ejemplo:\n",
    "\n",
    "$A=\\left( \\begin{array}{cc}2&2\\\\4&6\\end{array} \\right)$\n",
    "\n",
    "$3*A=\\left( \\begin{array}{cc}3*2&3*2\\\\3*4&3*6\\end{array} \\right)$\n",
    "\n",
    "$3*A=\\left( \\begin{array}{cc}6&6\\\\12&18\\end{array} \\right)$"
   ]
  },
  {
   "cell_type": "code",
   "execution_count": 127,
   "metadata": {},
   "outputs": [
    {
     "name": "stdout",
     "output_type": "stream",
     "text": [
      "A= \n",
      "[[2 2]\n",
      " [4 6]]\n",
      "\n",
      "3A= \n",
      "[[ 6  6]\n",
      " [12 18]]\n",
      "\n"
     ]
    }
   ],
   "source": [
    "import numpy as np\n",
    "A = np.array([[2, 2], [4, 6]])\n",
    "print('A= ',A,sep='\\n',end='\\n\\n')\n",
    "print('3A= ',3*A,sep='\\n',end='\\n\\n')"
   ]
  },
  {
   "cell_type": "markdown",
   "metadata": {},
   "source": [
    "# División de una matriz por un escalar"
   ]
  },
  {
   "cell_type": "markdown",
   "metadata": {},
   "source": [
    "Cada elemento de la matriz se multiplica de manera individual por el reciproco del escalar, ejemplo:\n",
    "\n",
    "$A=\\left( \\begin{array}{cc}2&2\\\\4&6\\end{array} \\right)$\n",
    "\n",
    "$\\frac{A}{3}=\\frac{1}{3}*A=\\left( \\begin{array}{cc}\\frac{1}{3}*2&\\frac{1}{3}*2\\\\\\frac{1}{3}*4&\\frac{1}{3}*6\\end{array} \\right)$\n",
    "\n",
    "$\\frac{1}{3}A=\\left( \\begin{array}{cc}\\frac{2}{3}&\\frac{2}{3}\\\\\\frac{4}{3}&2\\end{array} \\right)$"
   ]
  },
  {
   "cell_type": "code",
   "execution_count": 3,
   "metadata": {},
   "outputs": [
    {
     "name": "stdout",
     "output_type": "stream",
     "text": [
      "A= \n",
      "[[2 2]\n",
      " [4 6]]\n",
      "\n",
      "A/3= \n",
      "[[0.66666667 0.66666667]\n",
      " [1.33333333 2.        ]]\n",
      "\n",
      "A= \n",
      "[[2. 4.]\n",
      " [3. 5.]]\n",
      "\n",
      "B= \n",
      "[[ 4  0 -2]\n",
      " [ 1 -3 -1]]\n",
      "\n",
      "X= \n",
      "[[ 8.  6. -3.]\n",
      " [-5. -3.  2.]]\n",
      "\n"
     ]
    }
   ],
   "source": [
    "import numpy as np\n",
    "A = np.array([[2, 2], [4, 6]])\n",
    "print('A= ',A,sep='\\n',end='\\n\\n')\n",
    "print('A/3= ',A/3,sep='\\n',end='\\n\\n')\n",
    "\n",
    "A = np.array([[5, 4], [3, 8]])\n",
    "A = A - 3 * np.eye(2)\n",
    "B = np.array([[4, 0, -2], [1, -3, -1]])\n",
    "C = np.linalg.inv(A)\n",
    "X = C.dot(-B)\n",
    "print('A= ',A,sep='\\n',end='\\n\\n')\n",
    "print('B= ',B,sep='\\n',end='\\n\\n')\n",
    "print('X= ',X,sep='\\n',end='\\n\\n')"
   ]
  },
  {
   "cell_type": "markdown",
   "metadata": {},
   "source": [
    "# Ecuación Matricial"
   ]
  },
  {
   "cell_type": "markdown",
   "metadata": {},
   "source": [
    "Una ecuación matricial es una ecuación que podemos expresar por medio de matrices, o bien una ecuación en la que intervienen matrices.\n",
    "\n",
    "$\\textbf{Ejemplo 1}$\n",
    "\n",
    "Resuelva (obtenga $X$ ) la siguiente ecuación matricial $A + B – X = C$, donde A, B, C y X son matrices.\n",
    "\n",
    "$A = \\left( \\begin{array}{cc}5 & 4\\\\3 & 8\\end{array} \\right)$ $B = \\left( \\begin{array}{cc}6 & 5\\\\2 & 3\\end{array} \\right)$\n",
    "$C = \\left( \\begin{array}{cc} 5 & 6\\\\3 & 5\\end{array} \\right)$\n",
    "\n",
    "$A+B-X=C$\n",
    "\n",
    "$\\left( \\begin{array}{cc}5 & 4\\\\3 & 8\\end{array} \\right)+\\left( \\begin{array}{cc}6 & 5\\\\2 & 3\\end{array} \\right)-X=\\left( \\begin{array}{cc} 5 & 6\\\\3 & 5\\end{array} \\right)$\n",
    "\n",
    "Despejando..: $X=A+B-C$\n",
    "\n",
    "$X=\\left( \\begin{array}{cc}5 & 4\\\\3 & 8\\end{array} \\right)+\\left( \\begin{array}{cc}6 & 5\\\\2 & 3\\end{array} \\right)-\\left( \\begin{array}{cc} 5 & 6\\\\3 & 5\\end{array} \\right)$\n",
    "\n",
    "$X = \\left( \\begin{array}{cc}6 & 3\\\\2 & 6\\end{array} \\right)$\n",
    "\n",
    "\n"
   ]
  },
  {
   "cell_type": "code",
   "execution_count": 5,
   "metadata": {},
   "outputs": [
    {
     "name": "stdout",
     "output_type": "stream",
     "text": [
      "X: [[6 3]\n",
      " [2 6]]\n",
      "comprobacion: [[5 6]\n",
      " [3 5]]\n"
     ]
    }
   ],
   "source": [
    "import numpy as np\n",
    "A = np.array([[5, 4], [3, 8]])\n",
    "B = np.array([[6, 5], [2, 3]])\n",
    "C = np.array([[5, 6], [3, 5]])\n",
    "X = A + B - C\n",
    "print(f\"X: {X}\")\n",
    "print(f\"comprobacion: {A+B-X}\")"
   ]
  },
  {
   "cell_type": "markdown",
   "metadata": {},
   "source": [
    "\n",
    "$\\textbf{Ejemplo 2}$\n",
    "\n",
    "Resuelva X de la ecuación matricial $AX+B=3X$, donde:\n",
    "\n",
    "$A = \\left( \\begin{array}{cc}5 & 4\\\\3 & 8\\end{array} \\right)$ $B = \\left( \\begin{array}{ccc}4 & 0 & -2\\\\1 & -3 & -1\\end{array} \\right)$\n",
    "\n",
    "Para que $AX$ se pueda sumar a $B$, la multiplicación de $AX$ debe arrojar una matriz de $2 * 3$. Esto se obtiene si $X$ tiene 2 filas y 3 columnas.\n",
    "\n",
    "$AX+B=3X$\n",
    "\n",
    "$\\left( \\begin{array}{cc}5 & 4\\\\3 & 8\\end{array} \\right)X+\\left( \\begin{array}{ccc}4 & 0 & -2\\\\1 & -3 & -1\\end{array} \\right)=3\\left( \\begin{array}{cc}1 & 0\\\\0 & 1\\end{array} \\right)X$\n",
    "\n",
    "Despejando..: \n",
    "\n",
    "$AX-3X=-B$\n",
    "\n",
    "$(A-3)X=-B$\n",
    "\n",
    "$\\left[ \\left( \\begin{array}{cc}5 & 4\\\\3 & 8\\end{array} \\right)-3\\left(\\begin{array}{cc}1 & 0\\\\0 & 1\\end{array} \\right)\\right] X=-\\left( \\begin{array}{ccc}4 & 0 & -2\\\\1 & -3 & -1\\end{array} \\right)$\n",
    "\n",
    "$\\left[ \\left( \\begin{array}{cc}5 & 4\\\\3 & 8\\end{array} \\right)-\\left(\\begin{array}{cc}3 & 0\\\\0 & 3\\end{array} \\right)\\right] X=\\left( \\begin{array}{ccc}-4 & 0 & 2\\\\-1 & 3 & 1\\end{array} \\right)$\n",
    "\n",
    "$\\left( \\begin{array}{cc}2 & 4\\\\3 & 5\\end{array} \\right) X=\\left( \\begin{array}{ccc}-4 & 0 & 2\\\\-1 & 3 & 1\\end{array} \\right)$\n",
    "\n",
    "Despejando..: $X=\\left(\\begin{array}{cc}2 & 4\\\\3 & 5\\end{array} \\right)^{-1}\\left( \\begin{array}{ccc}-4 & 0 & 2\\\\-1 & 3 & 1\\end{array} \\right)$\n",
    "\n",
    "$X=\\left(\\begin{array}{cc}-2.5 & 2\\\\1.5 & -1\\end{array} \\right)\\left( \\begin{array}{ccc}-4 & 0 & 2\\\\-1 & 3 & 1\\end{array} \\right)$\n",
    "\n",
    "$X=\\left( \\begin{array}{ccc}8 & 6 & -3\\\\-5 & -3 & 2\\end{array} \\right)$\n"
   ]
  },
  {
   "cell_type": "code",
   "execution_count": 12,
   "metadata": {},
   "outputs": [
    {
     "name": "stdout",
     "output_type": "stream",
     "text": [
      "X: [[ 8.  6. -3.]\n",
      " [-5. -3.  2.]]\n"
     ]
    }
   ],
   "source": [
    "import numpy as np\n",
    "A = np.array([[5, 4], [3, 8]])\n",
    "B = np.array([[4, 0, -2], [1, -3, -1]])\n",
    "X = np.linalg.inv(A - 3 * np.eye(2)).dot(-B)\n",
    "print(f\"X: {X}\")"
   ]
  },
  {
   "cell_type": "code",
   "execution_count": 14,
   "metadata": {},
   "outputs": [
    {
     "name": "stdout",
     "output_type": "stream",
     "text": [
      "inversaA: [[ 1.5 -0.5]\n",
      " [-1.   0.5]]\n",
      "comprobacion: [[1. 0.]\n",
      " [0. 1.]]\n"
     ]
    }
   ],
   "source": []
  },
  {
   "cell_type": "markdown",
   "metadata": {},
   "source": [
    "## Problemas"
   ]
  },
  {
   "cell_type": "markdown",
   "metadata": {},
   "source": [
    "$\\textbf{Problema 1}$\n",
    "\n",
    "$A=\\left( \\begin{array}{cc}2&2\\\\4&6\\end{array} \\right)$\n",
    "\n",
    "Calcular la inversa de $A$.\n",
    "\n",
    "\n"
   ]
  },
  {
   "cell_type": "code",
   "execution_count": 15,
   "metadata": {},
   "outputs": [
    {
     "name": "stdout",
     "output_type": "stream",
     "text": [
      "inversaA: [[ 1.5 -0.5]\n",
      " [-1.   0.5]]\n",
      "comprobacion: [[1. 0.]\n",
      " [0. 1.]]\n"
     ]
    }
   ],
   "source": [
    "import numpy as np\n",
    "A = np.array([[2, 2], [4, 6]])\n",
    "invA = np.linalg.inv(A)\n",
    "print(f\"inversaA: {invA}\")\n",
    "print(f\"comprobacion: {A@invA}\")\n"
   ]
  },
  {
   "cell_type": "markdown",
   "metadata": {},
   "source": [
    "$\\textbf{Problema 2}$\n",
    "\n",
    "suponemos que $A=\\left( \\begin{array}{cc}1&1\\\\0&0\\end{array} \\right) $\n",
    "\n",
    "y que $B=\\left( \\begin{array}{cc}0&0\\\\2&0\\end{array} \\right) $\n",
    "\n",
    "Calcula $A\\cdot B$, y $B\\cdot A$"
   ]
  },
  {
   "cell_type": "code",
   "execution_count": 16,
   "metadata": {},
   "outputs": [
    {
     "name": "stdout",
     "output_type": "stream",
     "text": [
      "A.B: [[2 0]\n",
      " [0 0]]\n",
      "B.A: [[0 0]\n",
      " [2 2]]\n"
     ]
    }
   ],
   "source": [
    "import numpy as np\n",
    "A = np.array([[1, 1], [0, 0]])\n",
    "B = np.array([[0, 0], [2, 0]])\n",
    "print(f\"A.B: {A@B}\")\n",
    "print(f\"B.A: {B@A}\")"
   ]
  },
  {
   "cell_type": "markdown",
   "metadata": {},
   "source": [
    "$\\textbf{Problema 3}$\n",
    "\n",
    "suponemos que $A\\cdot C = B$, y que $A=\\left( \\begin{array}{cc}1&3\\\\ 2&5\\end{array} \\right) $\n",
    "\n",
    "y que $B=\\left( \\begin{array}{cc}0&1\\\\3&2\\end{array} \\right) $\n",
    "\n",
    "\n",
    "Calcula C"
   ]
  },
  {
   "cell_type": "code",
   "execution_count": 19,
   "metadata": {},
   "outputs": [
    {
     "name": "stdout",
     "output_type": "stream",
     "text": [
      "C: [[0. 1.]\n",
      " [3. 2.]]\n"
     ]
    }
   ],
   "source": [
    "import numpy as np\n",
    "A = np.array([[1, 3], [2, 5]])\n",
    "B = np.array([[0, 1], [3, 2]])\n",
    "C = np.linalg.inv(A)@B\n",
    "print(f\"C: {A@C}\")"
   ]
  },
  {
   "cell_type": "markdown",
   "metadata": {},
   "source": [
    "$\\textbf{Problema 4}$\n",
    "\n",
    "Crear una función y guardarla con el nombre getPromedio, de tal forma que la función\n",
    "reciba como argumento de entrada un Vector renglón y regrese como salida el promedio de\n",
    "los datos.\n"
   ]
  },
  {
   "cell_type": "code",
   "execution_count": 57,
   "metadata": {},
   "outputs": [
    {
     "name": "stdout",
     "output_type": "stream",
     "text": [
      "ren= 3\n",
      "A=[[ 1  2  3]\n",
      " [32 33 34]\n",
      " [ 5  6  7]]\n",
      "promedio= None\n"
     ]
    }
   ],
   "source": [
    "\n",
    "import numpy as np\n",
    "#A = np.array([1, 32, 5])\n",
    "#A = np.array([[1, 32, 5]])\n",
    "A = np.array([[1,2,3], [32,33,34], [5,6,7]])\n",
    "if A.ndim == 2:\n",
    "    print(f\"ren= {A.shape[0]}\")\n",
    "print(f\"A={A}\")\n",
    "promedio = getPromedio(A)\n",
    "print(f\"promedio= {promedio}\")\n",
    "\n",
    "def getPromedio(datos):\n",
    "    if A.ndim == 1 or (A.ndim == 2 and A.shape[0] == 1):\n",
    "        return np.mean(datos)\n",
    "    return None\n"
   ]
  },
  {
   "cell_type": "markdown",
   "metadata": {},
   "source": [
    "𝐏𝐫𝐨𝐛𝐥𝐞𝐦𝐚 5\n",
    "\n",
    "Crear una función y guardarla con el nombre getPromedioHorizontal, de tal forma que la función reciba como argumento de entrada una matriz de 2 dimensiones y regrese como salida  los promedios de cada renglon.\n"
   ]
  },
  {
   "cell_type": "code",
   "execution_count": 5,
   "metadata": {},
   "outputs": [
    {
     "name": "stdout",
     "output_type": "stream",
     "text": [
      "A=[ 1 32  5]\n",
      "promedio= 12.666666666666666\n"
     ]
    }
   ],
   "source": [
    "import numpy as np\n",
    "\n",
    "def getPromedio(datos):\n",
    "    if A.ndim == 2:\n",
    "        return np.mean(datos, axis=1)\n",
    "    elif A.ndim == 1:\n",
    "        return np.mean(datos)\n",
    "    else:\n",
    "        return None\n",
    "    \n",
    "A = np.array([1, 32, 5])\n",
    "#A = np.array([[1, 32, 5]])\n",
    "#A = np.array([[1,2,3], [32,33,34], [5,6,7]])\n",
    "if A.ndim == 2:\n",
    "    print(f\"ren= {A.shape[0]}\")\n",
    "print(f\"A={A}\")\n",
    "promedio = getPromedio(A)\n",
    "print(f\"promedio= {promedio}\")\n",
    "\n"
   ]
  },
  {
   "cell_type": "markdown",
   "metadata": {},
   "source": [
    "\n",
    "𝐏𝐫𝐨𝐛𝐥𝐞𝐦𝐚 6\n",
    "\n",
    "Crear una función y guardarla con el nombre getPromedioVertical, de tal forma que la función reciba como argumento de entrada una matriz de 2 dimensiones y regrese como salida  los promedios de cada columna."
   ]
  },
  {
   "cell_type": "code",
   "execution_count": null,
   "metadata": {},
   "outputs": [],
   "source": []
  },
  {
   "cell_type": "markdown",
   "metadata": {},
   "source": [
    "$\\textbf{Problema 7}$\n",
    "\n",
    "Crear una función y guardarla con el nombre de getMCD, de tal forma que la función reciba como argumento de entrada un vector columna de 2 números, y regrese como salida el máximo común divisor de ambos.\n",
    "\n",
    "El algoritmo de Euclides se basa en el hecho de que si $\\textbf{a}$ es mayor que $\\textbf{b}$, entonces el máximo común divisor de $\\textbf{a}$ y $\\textbf{b}$, es el mismo que de $\\textbf{(a-b)}$ y $\\textbf{b}$.\n",
    "\n",
    "Si $\\textbf{a}$ y $\\textbf{b}$ son iguales, entonces ése es su valor de MCD.\n"
   ]
  },
  {
   "cell_type": "code",
   "execution_count": null,
   "metadata": {},
   "outputs": [],
   "source": []
  }
 ],
 "metadata": {
  "kernelspec": {
   "display_name": "Python 3 (ipykernel)",
   "language": "python",
   "name": "python3"
  }
 },
 "nbformat": 4,
 "nbformat_minor": 4
}
