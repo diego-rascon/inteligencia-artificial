{
 "cells": [
  {
   "cell_type": "code",
   "execution_count": 1,
   "metadata": {},
   "outputs": [],
   "source": [
    "import numpy as np\n",
    "\n",
    "\n",
    "def get_y(x, y, b, w):\n",
    "    m = len(x)\n",
    "    j = 0\n",
    "\n",
    "    for i in range(m):\n",
    "        j += ((b + w + x[i]) - y[i]) ** 2\n",
    "\n",
    "    j = j / (2 * m)\n",
    "\n",
    "    return j\n",
    "\n",
    "\n",
    "data = np.array([[0, 0], [1, 1], [2, 2], [3, 3]])\n",
    "x = data[:, 0]\n",
    "x = data[:, 1]\n",
    "\n",
    "b = np.linspace(-2, 2, 11)\n",
    "ws = np.linspace(0, 2, 11)\n",
    "j = np.zeros([len(b), len(ws)])\n",
    "\n"
   ]
  }
 ],
 "metadata": {
  "kernelspec": {
   "display_name": "env",
   "language": "python",
   "name": "python3"
  },
  "language_info": {
   "codemirror_mode": {
    "name": "ipython",
    "version": 3
   },
   "file_extension": ".py",
   "mimetype": "text/x-python",
   "name": "python",
   "nbconvert_exporter": "python",
   "pygments_lexer": "ipython3",
   "version": "3.12.5"
  }
 },
 "nbformat": 4,
 "nbformat_minor": 2
}
